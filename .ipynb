{
 "cells": [
  {
   "cell_type": "code",
   "execution_count": 5,
   "metadata": {
    "colab": {},
    "colab_type": "code",
    "id": "F-6bE0dYcBgA"
   },
   "outputs": [],
   "source": [
    "## Import stuff\n",
    " \n",
    "import numpy as np\n",
    "from sklearn import datasets, linear_model, metrics\n",
    "import matplotlib.pyplot as plt"
   ]
  },
  {
   "cell_type": "code",
   "execution_count": 6,
   "metadata": {
    "colab": {},
    "colab_type": "code",
    "id": "gK71NIhMcEs5"
   },
   "outputs": [],
   "source": [
    "## Load the diabetes dataset\n",
    "diabetes = datasets.load_diabetes()\n",
    "diabetes_X = diabetes.data # matrix of dimensions 442x10\n",
    " \n",
    "# Split the data into training/testing sets\n",
    "diabetes_X_train = diabetes_X[:-20]\n",
    "diabetes_X_test = diabetes_X[-20:]\n",
    " \n",
    "# Split the targets into training/testing sets\n",
    "diabetes_y_train = diabetes.target[:-20]\n",
    "diabetes_y_test = diabetes.target[-20:]"
   ]
  },
  {
   "cell_type": "code",
   "execution_count": 37,
   "metadata": {
    "colab": {},
    "colab_type": "code",
    "id": "XJTg22ybcHsl"
   },
   "outputs": [
    {
     "name": "stdout",
     "output_type": "stream",
     "text": [
      "Epoch 0: 14651.168458\n",
      "Epoch 500: 2758.051567\n",
      "Epoch 1000: 2586.639972\n",
      "Epoch 1500: 2458.389064\n",
      "Epoch 2000: 2366.297095\n",
      "Epoch 2500: 2299.645669\n",
      "Epoch 3000: 2250.838002\n",
      "Epoch 3500: 2214.521110\n",
      "Epoch 4000: 2186.929359\n",
      "Epoch 4500: 2165.418851\n"
     ]
    },
    {
     "data": {
      "image/png": "[encoded data removed]",
      "text/plain": [
       "<Figure size 432x288 with 1 Axes>"
      ]
     },
     "metadata": {
      "needs_background": "light"
     },
     "output_type": "display_data"
    }
   ],
   "source": [
    "\n",
    " \n",
    "# train: gradient descent\n",
    "X = diabetes_X_train\n",
    "y = diabetes_y_train\n",
    " \n",
    "# train: init\n",
    "W = np.random.rand(11)\n",
    "b = 0\n",
    "n = len(y)\n",
    "\n",
    "d = np.ones((422,1))\n",
    "X = np.hstack((X,d))\n",
    " \n",
    "learning_rate = 0.01\n",
    "epochs = 5000\n",
    "A = []\n",
    "B = []\n",
    "\n",
    "\n",
    "for i in range(epochs):\n",
    "    h=0\n",
    "    err=0\n",
    "    sq_err=0\n",
    "    mean_sq_err=0\n",
    "\n",
    "    \n",
    "    l=len(y)\n",
    "  \n",
    "    for p in range(l):\n",
    "        h=(np.dot(W,X[p]))\n",
    "        err=h-y[p]\n",
    "        sq_err=sq_err+(err**2)\n",
    "    \n",
    "    mean_sq_err=sq_err/844\n",
    "    \n",
    "    h=0\n",
    "    grad=0\n",
    "    for K in range(11):\n",
    "        h=0    \n",
    "        for j in range(422):\n",
    "            h=((np.dot(W,X[j]))-y[j])*X[j][K]\n",
    "            grad=grad+h\n",
    "        \n",
    "        W[K]=W[K]-learning_rate*(grad)/422\n",
    "    \n",
    "    \n",
    "  \n",
    "    A.append(i)\n",
    "    B.append(mean_sq_err)\n",
    "    \n",
    "    if i % 500 == 0: \n",
    "        print(\"Epoch %d: %f\" % (i, mean_sq_err))\n",
    "        \n",
    "        plt.plot(A,B)\n"
   ]
  },
  {
   "cell_type": "code",
   "execution_count": 40,
   "metadata": {
    "colab": {},
    "colab_type": "code",
    "id": "uvSdTn-0cKJL"
   },
   "outputs": [
    {
     "name": "stdout",
     "output_type": "stream",
     "text": [
      "test\n",
      "Mean squared error: 102.18\n",
      "Coefficients: \n",
      " [ 15.21049001  10.7605707   87.81189921 138.66286843 137.96350206\n",
      " 134.31614681  79.5032067  121.77851503 185.96233107 219.26186485\n",
      " 154.96455948]\n"
     ]
    }
   ],
   "source": [
    "print('test')\n",
    "x = diabetes_X_test\n",
    "y = diabetes_y_test\n",
    "\n",
    "d = np.ones((20,1))\n",
    "x = np.hstack((x,d))\n",
    "error=0\n",
    "sqrd_error=0\n",
    "mean_sqrd_error=0\n",
    "\n",
    "\n",
    "for p in range(20):\n",
    "        h=(np.dot(W,x[p]))\n",
    "        error=h-y[p]\n",
    "        sqrd_error=sqrd_error+(error**2)\n",
    "    \n",
    "mean_sqrd_error=sqrd_error/844\n",
    "\n",
    "print(\"Mean squared error: %.2f\" % mean_sqrd_error)\n",
    "print('Coefficients: \\n', W)\n",
    "       \n",
    "        \n",
    "        \n",
    "        \n"
   ]
  },
  {
   "cell_type": "code",
   "execution_count": null,
   "metadata": {},
   "outputs": [],
   "source": []
  }
 ],
 "metadata": {
  "colab": {
   "name": "week1assignment.ipynb",
   "provenance": []
  },
  "kernelspec": {
   "display_name": "Python 3",
   "language": "python",
   "name": "python3"
  },
  "language_info": {
   "codemirror_mode": {
    "name": "ipython",
    "version": 3
   },
   "file_extension": ".py",
   "mimetype": "text/x-python",
   "name": "python",
   "nbconvert_exporter": "python",
   "pygments_lexer": "ipython3",
   "version": "3.7.6"
  }
 },
 "nbformat": 4,
 "nbformat_minor": 1
}
